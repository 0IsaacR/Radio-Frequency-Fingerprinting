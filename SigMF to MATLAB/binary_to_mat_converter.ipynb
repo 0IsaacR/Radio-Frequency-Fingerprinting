{
 "cells": [
  {
   "attachments": {},
   "cell_type": "markdown",
   "metadata": {},
   "source": [
    "SigMF to MATLAB data converter\n",
    "\n",
    "This code belongs to:\n",
    "https://github.com/nasimsoltani/DataFactory/tree/main/SigMF\n",
    "\n",
    "I made some minor changes and only converts sigmf to matlab."
   ]
  },
  {
   "cell_type": "code",
   "execution_count": 56,
   "metadata": {},
   "outputs": [],
   "source": [
    "# enter path of folder where bin and json files are stored\n",
    "sigmf_path = '/mypath/'\n",
    "\n",
    "# enter path where matlab files are going to be stored\n",
    "mat_path =   '/myotherpath/'"
   ]
  },
  {
   "cell_type": "code",
   "execution_count": 2,
   "metadata": {},
   "outputs": [],
   "source": [
    "from scipy.io import savemat\n",
    "import glob\n",
    "import numpy as np\n",
    "import os\n",
    "from tqdm import tqdm"
   ]
  },
  {
   "cell_type": "code",
   "execution_count": 3,
   "metadata": {},
   "outputs": [
    {
     "name": "stdout",
     "output_type": "stream",
     "text": [
      "['uav1', 'uav2', 'uav3', 'uav4', 'uav5', 'uav6', 'uav7']\n"
     ]
    }
   ],
   "source": [
    "device_list = ['m1001','m1005','m1007','m1008','m1009','m10010','m10011']\n",
    "distance_list = ['6ft','9ft','12ft','15ft']\n",
    "uav_list = []\n",
    "for i in range(len(device_list)):\n",
    "    uav_list.append('uav'+str(i+1))\n",
    "print (uav_list)\n",
    "\n",
    "cf_dict = {'m1008_6ft':'2476500000', 'm1008_9ft':'2406500000', 'm1008_12ft':'2406500000', 'm1008_15ft':'2406500000', 'm1009_6ft':'2426500000', 'm1009_9ft':'2426500000', 'm1009_12ft':'2426500000', 'm1009_15ft':'2436500000', 'm1007_6ft':'2476500000', 'm1007_9ft':'2476500000', 'm1007_12ft':'2476500000', 'm1007_15ft':'2476500000', 'm1005_6ft':'2406500000', 'm1005_9ft':'2406500000', 'm1005_12ft':'2406500000', 'm1005_15ft':'2406500000', 'm10011_6ft':'2416500000', 'm10011_9ft':'2416500000', 'm10011_12ft':'2416500000', 'm10011_15ft':'2416500000', 'm1001_6ft':'2406500000', 'm1001_9ft':'2406500000', 'm1001_12ft':'2406500000', 'm1001_15ft':'2406500000', 'm10010_6ft':'2406500000', 'm10010_9ft':'2406500000', 'm10010_12ft':'2406500000', 'm10010_15ft':'2416500000'}"
   ]
  },
  {
   "cell_type": "code",
   "execution_count": 87,
   "metadata": {},
   "outputs": [],
   "source": [
    "# if destination directory does not exist, create it\n",
    "if not os.path.isdir(mat_path):\n",
    "    os.mkdir(mat_path)\n",
    "    \n",
    "bin_json_list = glob.glob(sigmf_path + '*')\n",
    "    \n",
    "for filepath in tqdm(bin_json_list):\n",
    "    # do this only if you have a .bin file not a .json file\n",
    "    if filepath.endswith('.bin'):\n",
    "        # read the .bin file\n",
    "        with open (filepath,'rb') as handle:\n",
    "            iq_seq = np.fromfile(handle, dtype='<f2')    # (f2 => float16)\n",
    "        n_samples = iq_seq.shape[0]/2\n",
    "\n",
    "        # separate I and Q\n",
    "        IQ_data = np.zeros((np.int_(n_samples),2),dtype=np.float16)\n",
    "        IQ_data[:,0] = iq_seq[range(0, iq_seq.shape[0]-1, 2)]    # load all I-values in dimension 0\n",
    "        IQ_data[:,1] = iq_seq[range(1, iq_seq.shape[0], 2)]      # ...and Q-values in dimension 1\n",
    "        # convert to Complex I/Q\n",
    "        Complex_IQ = IQ_data[:,0] + 1j*IQ_data[:,1]\n",
    "\n",
    "        # reshape the complex sequence to (1,L)\n",
    "        Complex_IQ = np.expand_dims(Complex_IQ, axis=0)\n",
    "\n",
    "        # dump the complex sequence into a .mat file\n",
    "        filename = filepath.split('/')[-1].strip('.bin')\n",
    "        this_mat_file_path = os.path.join(mat_path, filename)\n",
    "        this_mat_file_path = this_mat_file_path + '.mat'\n",
    "        savemat(this_mat_file_path, {'f_sig':Complex_IQ}) \n",
    "     "
   ]
  }
 ],
 "metadata": {
  "kernelspec": {
   "display_name": "Python 3",
   "language": "python",
   "name": "python3"
  },
  "language_info": {
   "codemirror_mode": {
    "name": "ipython",
    "version": 3
   },
   "file_extension": ".py",
   "mimetype": "text/x-python",
   "name": "python",
   "nbconvert_exporter": "python",
   "pygments_lexer": "ipython3",
   "version": "3.11.0"
  },
  "orig_nbformat": 4
 },
 "nbformat": 4,
 "nbformat_minor": 2
}
